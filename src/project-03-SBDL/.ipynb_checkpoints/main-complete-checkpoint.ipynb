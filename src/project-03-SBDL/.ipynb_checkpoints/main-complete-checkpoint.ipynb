{
 "cells": [
  {
   "cell_type": "code",
   "execution_count": 1,
   "id": "ab8188d5-56c8-49bf-9092-32350b04bc82",
   "metadata": {},
   "outputs": [],
   "source": [
    "import sys\n",
    "import uuid\n",
    "from pyspark.sql.functions import struct, col, to_json\n",
    "from lib import ConfigLoader, Utils, DataLoader #,Transformations\n",
    "from lib.logger import Log4j"
   ]
  },
  {
   "cell_type": "code",
   "execution_count": 2,
   "id": "f24f2684-6ec9-421b-ba71-bfa99b610948",
   "metadata": {},
   "outputs": [],
   "source": [
    "from pyspark.sql.functions import struct, lit, col, array, when, isnull, filter, current_timestamp, date_format, expr, \\\n",
    "    collect_list"
   ]
  },
  {
   "cell_type": "code",
   "execution_count": 3,
   "id": "d8bab9e9-4940-40d4-ba77-650710572986",
   "metadata": {
    "scrolled": true
   },
   "outputs": [
    {
     "name": "stdout",
     "output_type": "stream",
     "text": [
      "Initializing SBDL Job in LOCAL Job ID: SBDL-1f7233ff-8a99-4ff4-875b-f3d4c4a8f40d\n",
      "Creating Spark Session\n",
      ":: loading settings :: url = jar:file:/opt/spark/jars/ivy-2.5.1.jar!/org/apache/ivy/core/settings/ivysettings.xml\n"
     ]
    },
    {
     "name": "stderr",
     "output_type": "stream",
     "text": [
      "Ivy Default Cache set to: /root/.ivy2/cache\n",
      "The jars for the packages stored in: /root/.ivy2/jars\n",
      "org.apache.spark#spark-sql-kafka-0-10_2.12 added as a dependency\n",
      ":: resolving dependencies :: org.apache.spark#spark-submit-parent-656f6d05-dda6-493b-833a-aafeae3c871e;1.0\n",
      "\tconfs: [default]\n",
      "\tfound org.apache.spark#spark-sql-kafka-0-10_2.12;3.3.0 in central\n",
      "\tfound org.apache.spark#spark-token-provider-kafka-0-10_2.12;3.3.0 in central\n",
      "\tfound org.apache.kafka#kafka-clients;2.8.1 in central\n",
      "\tfound org.lz4#lz4-java;1.8.0 in central\n",
      "\tfound org.xerial.snappy#snappy-java;1.1.8.4 in central\n",
      "\tfound org.slf4j#slf4j-api;1.7.32 in central\n",
      "\tfound org.apache.hadoop#hadoop-client-runtime;3.3.2 in central\n",
      "\tfound org.spark-project.spark#unused;1.0.0 in central\n",
      "\tfound org.apache.hadoop#hadoop-client-api;3.3.2 in central\n",
      "\tfound commons-logging#commons-logging;1.1.3 in central\n",
      "\tfound com.google.code.findbugs#jsr305;3.0.0 in central\n",
      "\tfound org.apache.commons#commons-pool2;2.11.1 in central\n",
      ":: resolution report :: resolve 828ms :: artifacts dl 26ms\n",
      "\t:: modules in use:\n",
      "\tcom.google.code.findbugs#jsr305;3.0.0 from central in [default]\n",
      "\tcommons-logging#commons-logging;1.1.3 from central in [default]\n",
      "\torg.apache.commons#commons-pool2;2.11.1 from central in [default]\n",
      "\torg.apache.hadoop#hadoop-client-api;3.3.2 from central in [default]\n",
      "\torg.apache.hadoop#hadoop-client-runtime;3.3.2 from central in [default]\n",
      "\torg.apache.kafka#kafka-clients;2.8.1 from central in [default]\n",
      "\torg.apache.spark#spark-sql-kafka-0-10_2.12;3.3.0 from central in [default]\n",
      "\torg.apache.spark#spark-token-provider-kafka-0-10_2.12;3.3.0 from central in [default]\n",
      "\torg.lz4#lz4-java;1.8.0 from central in [default]\n",
      "\torg.slf4j#slf4j-api;1.7.32 from central in [default]\n",
      "\torg.spark-project.spark#unused;1.0.0 from central in [default]\n",
      "\torg.xerial.snappy#snappy-java;1.1.8.4 from central in [default]\n",
      "\t---------------------------------------------------------------------\n",
      "\t|                  |            modules            ||   artifacts   |\n",
      "\t|       conf       | number| search|dwnlded|evicted|| number|dwnlded|\n",
      "\t---------------------------------------------------------------------\n",
      "\t|      default     |   12  |   0   |   0   |   0   ||   12  |   0   |\n",
      "\t---------------------------------------------------------------------\n",
      ":: retrieving :: org.apache.spark#spark-submit-parent-656f6d05-dda6-493b-833a-aafeae3c871e\n",
      "\tconfs: [default]\n",
      "\t0 artifacts copied, 12 already retrieved (0kB/17ms)\n"
     ]
    },
    {
     "name": "stdout",
     "output_type": "stream",
     "text": [
      "24/10/05 13:40:13 WARN NativeCodeLoader: Unable to load native-hadoop library for your platform... using builtin-java classes where applicable\n"
     ]
    }
   ],
   "source": [
    "    # Definindo o ambiente de execução e a data de carregamento\n",
    "    # Aqui, o ambiente é configurado como \"LOCAL\", e a data é fixada\n",
    "    job_run_env = \"LOCAL\"  # Definindo o ambiente como 'local'\n",
    "    load_date = \"2022-08-02\"  # Data fixa para carregamento\n",
    "\n",
    "    # Gerando um identificador único para esta execução do job\n",
    "    job_run_id = \"SBDL-\" + str(uuid.uuid4())  \n",
    "\n",
    "    # Imprime no console o início da execução do job\n",
    "    print(f\"Initializing SBDL Job in {job_run_env} Job ID: {job_run_id}\")\n",
    "\n",
    "    # Carrega as configurações do arquivo correspondente ao ambiente (ex.: conf/local.conf)\n",
    "    conf = ConfigLoader.get_config(job_run_env)\n",
    "\n",
    "    # Verifica se o Hive está habilitado nas configurações, para decidir se será utilizado\n",
    "    enable_hive = True if conf[\"enable.hive\"] == \"true\" else False\n",
    "    hive_db = conf[\"hive.database\"]  # Obtém o nome do banco de dados Hive das configurações\n",
    "\n",
    "    # Inicializando a sessão Spark, essencial para processamento distribuído de dados\n",
    "    print(\"Creating Spark Session\")\n",
    "    spark = Utils.get_spark_session(job_run_env)  # Cria a sessão Spark apropriada ao ambiente\n",
    "\n",
    "    # Inicializa o logger para registrar informações no log\n",
    "    logger = Log4j(spark)"
   ]
  },
  {
   "cell_type": "code",
   "execution_count": 4,
   "id": "04520b26-e072-476a-b7c5-1dee3c625865",
   "metadata": {
    "scrolled": true
   },
   "outputs": [
    {
     "name": "stdout",
     "output_type": "stream",
     "text": [
      "24/10/05 13:40:18 INFO sbdl: Reading SBDL Account DF\n",
      "+----------+----------+----------+----------+-------------------+---------------+--------------+-----------+------------------+-----------+-------------+\n",
      "| load_date|active_ind|account_id|source_sys| account_start_date|  legal_title_1| legal_title_2|tax_id_type|            tax_id|branch_code|      country|\n",
      "+----------+----------+----------+----------+-------------------+---------------+--------------+-----------+------------------+-----------+-------------+\n",
      "|2022-08-02|         1|6982391060|       COH|2018-03-24 08:26:45|  Tiffany Riley|Matthew Davies|        EIN|ZLCK91795330413525|   ACXMGBA5|       Mexico|\n",
      "|2022-08-02|         1|6982391061|       ADS|2018-07-19 05:54:49|Garcia and Sons| Taylor Guzman|        SSP|CADU39916151090321|   SHJFGBML|United States|\n",
      "|2022-08-02|         1|6982391067|       BDL|2018-08-29 11:48:59|     Acosta Inc|  David Walker|        SSP|UJLN20870916345792|   WZTEGBTG|       Canada|\n",
      "|2022-08-02|         1|6982391064|       ADS|2018-03-28 10:17:43|    Allen Group|          null|        CPR|WJMX61093523376960|   OCCKGB65|       Canada|\n",
      "|2022-08-02|         1|6982391065|       COR|2018-06-30 17:03:19|   Austin Miles|          null|        EIN|TYAB75470638120665|   XCVKGB49|       Canada|\n",
      "+----------+----------+----------+----------+-------------------+---------------+--------------+-----------+------------------+-----------+-------------+\n",
      "only showing top 5 rows\n",
      "\n",
      "root\n",
      " |-- load_date: date (nullable = true)\n",
      " |-- active_ind: integer (nullable = true)\n",
      " |-- account_id: string (nullable = true)\n",
      " |-- source_sys: string (nullable = true)\n",
      " |-- account_start_date: timestamp (nullable = true)\n",
      " |-- legal_title_1: string (nullable = true)\n",
      " |-- legal_title_2: string (nullable = true)\n",
      " |-- tax_id_type: string (nullable = true)\n",
      " |-- tax_id: string (nullable = true)\n",
      " |-- branch_code: string (nullable = true)\n",
      " |-- country: string (nullable = true)\n",
      "\n"
     ]
    },
    {
     "name": "stderr",
     "output_type": "stream",
     "text": [
      "                                                                                \r"
     ]
    }
   ],
   "source": [
    "# Carrega os dados das contas do sistema (DataFrame de contas)\n",
    "logger.info(\"Reading SBDL Account DF\")\n",
    "accounts_df = DataLoader.read_accounts(spark, job_run_env, enable_hive, hive_db)\n",
    "accounts_df.show(5)  \n",
    "accounts_df.printSchema()  "
   ]
  },
  {
   "cell_type": "code",
   "execution_count": 5,
   "id": "700d42c3-180c-4dab-abc7-d550df262dbe",
   "metadata": {},
   "outputs": [
    {
     "name": "stdout",
     "output_type": "stream",
     "text": [
      "+----------+--------------------+----------------------+--------------------+--------------------+--------------------+--------------------+--------------------+\n",
      "|account_id|  contractIdentifier|sourceSystemIdentifier|contactStartDateTime|       contractTitle|       taxIdentifier|  contractBranchCode|     contractCountry|\n",
      "+----------+--------------------+----------------------+--------------------+--------------------+--------------------+--------------------+--------------------+\n",
      "|6982391060|{INSERT, 69823910...|   {INSERT, COH, null}|{INSERT, 2018-03-...|{INSERT, [{lgl_tt...|{INSERT, {EIN, ZL...|{INSERT, ACXMGBA5...|{INSERT, Mexico, ...|\n",
      "|6982391061|{INSERT, 69823910...|   {INSERT, ADS, null}|{INSERT, 2018-07-...|{INSERT, [{lgl_tt...|{INSERT, {SSP, CA...|{INSERT, SHJFGBML...|{INSERT, United S...|\n",
      "|6982391067|{INSERT, 69823910...|   {INSERT, BDL, null}|{INSERT, 2018-08-...|{INSERT, [{lgl_tt...|{INSERT, {SSP, UJ...|{INSERT, WZTEGBTG...|{INSERT, Canada, ...|\n",
      "|6982391064|{INSERT, 69823910...|   {INSERT, ADS, null}|{INSERT, 2018-03-...|{INSERT, [{lgl_tt...|{INSERT, {CPR, WJ...|{INSERT, OCCKGB65...|{INSERT, Canada, ...|\n",
      "|6982391065|{INSERT, 69823910...|   {INSERT, COR, null}|{INSERT, 2018-06-...|{INSERT, [{lgl_tt...|{INSERT, {EIN, TY...|{INSERT, XCVKGB49...|{INSERT, Canada, ...|\n",
      "+----------+--------------------+----------------------+--------------------+--------------------+--------------------+--------------------+--------------------+\n",
      "only showing top 5 rows\n",
      "\n",
      "root\n",
      " |-- account_id: string (nullable = true)\n",
      " |-- contractIdentifier: struct (nullable = false)\n",
      " |    |-- operation: string (nullable = false)\n",
      " |    |-- newValue: string (nullable = true)\n",
      " |    |-- oldValue: void (nullable = true)\n",
      " |-- sourceSystemIdentifier: struct (nullable = false)\n",
      " |    |-- operation: string (nullable = false)\n",
      " |    |-- newValue: string (nullable = true)\n",
      " |    |-- oldValue: void (nullable = true)\n",
      " |-- contactStartDateTime: struct (nullable = false)\n",
      " |    |-- operation: string (nullable = false)\n",
      " |    |-- newValue: timestamp (nullable = true)\n",
      " |    |-- oldValue: void (nullable = true)\n",
      " |-- contractTitle: struct (nullable = false)\n",
      " |    |-- operation: string (nullable = false)\n",
      " |    |-- newValue: array (nullable = false)\n",
      " |    |    |-- element: struct (containsNull = true)\n",
      " |    |    |    |-- contractTitleLineType: string (nullable = false)\n",
      " |    |    |    |-- contractTitleLine: string (nullable = true)\n",
      " |    |-- oldValue: void (nullable = true)\n",
      " |-- taxIdentifier: struct (nullable = false)\n",
      " |    |-- operation: string (nullable = false)\n",
      " |    |-- newValue: struct (nullable = false)\n",
      " |    |    |-- taxIdType: string (nullable = true)\n",
      " |    |    |-- taxId: string (nullable = true)\n",
      " |    |-- oldValue: void (nullable = true)\n",
      " |-- contractBranchCode: struct (nullable = false)\n",
      " |    |-- operation: string (nullable = false)\n",
      " |    |-- newValue: string (nullable = true)\n",
      " |    |-- oldValue: void (nullable = true)\n",
      " |-- contractCountry: struct (nullable = false)\n",
      " |    |-- operation: string (nullable = false)\n",
      " |    |-- newValue: string (nullable = true)\n",
      " |    |-- oldValue: void (nullable = true)\n",
      "\n"
     ]
    }
   ],
   "source": [
    "def get_contract(df):\n",
    "    contract_title = array(when(~isnull(\"legal_title_1\"),\n",
    "                                struct(lit(\"lgl_ttl_ln_1\").alias(\"contractTitleLineType\"),\n",
    "                                       col(\"legal_title_1\").alias(\"contractTitleLine\")).alias(\"contractTitle\")),\n",
    "                           when(~isnull(\"legal_title_2\"),\n",
    "                                struct(lit(\"lgl_ttl_ln_2\").alias(\"contractTitleLineType\"),\n",
    "                                       col(\"legal_title_2\").alias(\"contractTitleLine\")).alias(\"contractTitle\"))\n",
    "                           )\n",
    "\n",
    "    contract_title_nl = filter(contract_title, lambda x: ~isnull(x))\n",
    "\n",
    "    tax_identifier = struct(col(\"tax_id_type\").alias(\"taxIdType\"),\n",
    "                            col(\"tax_id\").alias(\"taxId\")).alias(\"taxIdentifier\")\n",
    "\n",
    "    return df.select(\"account_id\", get_insert_operation(col(\"account_id\"), \"contractIdentifier\"),\n",
    "                     get_insert_operation(col(\"source_sys\"), \"sourceSystemIdentifier\"),\n",
    "                     get_insert_operation(col(\"account_start_date\"), \"contactStartDateTime\"),\n",
    "                     get_insert_operation(contract_title_nl, \"contractTitle\"),\n",
    "                     get_insert_operation(tax_identifier, \"taxIdentifier\"),\n",
    "                     get_insert_operation(col(\"branch_code\"), \"contractBranchCode\"),\n",
    "                     get_insert_operation(col(\"country\"), \"contractCountry\"),\n",
    "                     )\n",
    "def get_insert_operation(column, alias):\n",
    "    return struct(lit(\"INSERT\").alias(\"operation\"),\n",
    "                  column.alias(\"newValue\"),\n",
    "                  lit(None).alias(\"oldValue\")).alias(alias)\n",
    "\n",
    "# Aplica transformações para criar um DataFrame de contratos a partir das contas\n",
    "contract_df = get_contract(accounts_df)\n",
    "contract_df.show(5)\n",
    "contract_df.printSchema()"
   ]
  },
  {
   "cell_type": "code",
   "execution_count": 6,
   "id": "04b15c7e-6d70-4b61-9726-b7aa4609f082",
   "metadata": {},
   "outputs": [
    {
     "name": "stdout",
     "output_type": "stream",
     "text": [
      "24/10/05 13:40:46 INFO sbdl: Reading SBDL Party DF\n",
      "+----------+----------+----------+-------------+-------------------+\n",
      "| load_date|account_id|  party_id|relation_type|relation_start_date|\n",
      "+----------+----------+----------+-------------+-------------------+\n",
      "|2022-08-02|6982391060|9823462810|          F-N|2019-07-29 00:51:32|\n",
      "|2022-08-02|6982391061|9823462811|          F-N|2018-08-30 23:57:22|\n",
      "|2022-08-02|6982391062|9823462812|          F-N|2018-08-25 10:20:29|\n",
      "|2022-08-02|6982391063|9823462813|          F-N|2018-05-11 01:53:28|\n",
      "|2022-08-02|6982391064|9823462814|          F-N|2019-06-06 08:48:12|\n",
      "+----------+----------+----------+-------------+-------------------+\n",
      "only showing top 5 rows\n",
      "\n",
      "root\n",
      " |-- load_date: date (nullable = true)\n",
      " |-- account_id: string (nullable = true)\n",
      " |-- party_id: string (nullable = true)\n",
      " |-- relation_type: string (nullable = true)\n",
      " |-- relation_start_date: timestamp (nullable = true)\n",
      "\n"
     ]
    }
   ],
   "source": [
    "    # Carrega os dados das partes envolvidas (DataFrame de clientes ou entidades relacionadas)\n",
    "    logger.info(\"Reading SBDL Party DF\")\n",
    "    parties_df = DataLoader.read_parties(spark, job_run_env, enable_hive, hive_db)\n",
    "    parties_df.show(5)\n",
    "    parties_df.printSchema()"
   ]
  },
  {
   "cell_type": "code",
   "execution_count": 7,
   "id": "d9598393-5367-43f2-9a39-a30b8ac7a71e",
   "metadata": {},
   "outputs": [
    {
     "name": "stdout",
     "output_type": "stream",
     "text": [
      "+----------+----------+--------------------+---------------------+--------------------------+\n",
      "|account_id|  party_id|     partyIdentifier|partyRelationshipType|partyRelationStartDateTime|\n",
      "+----------+----------+--------------------+---------------------+--------------------------+\n",
      "|6982391060|9823462810|{INSERT, 98234628...|  {INSERT, F-N, null}|      {INSERT, 2019-07-...|\n",
      "|6982391061|9823462811|{INSERT, 98234628...|  {INSERT, F-N, null}|      {INSERT, 2018-08-...|\n",
      "|6982391062|9823462812|{INSERT, 98234628...|  {INSERT, F-N, null}|      {INSERT, 2018-08-...|\n",
      "|6982391063|9823462813|{INSERT, 98234628...|  {INSERT, F-N, null}|      {INSERT, 2018-05-...|\n",
      "|6982391064|9823462814|{INSERT, 98234628...|  {INSERT, F-N, null}|      {INSERT, 2019-06-...|\n",
      "+----------+----------+--------------------+---------------------+--------------------------+\n",
      "only showing top 5 rows\n",
      "\n",
      "root\n",
      " |-- account_id: string (nullable = true)\n",
      " |-- party_id: string (nullable = true)\n",
      " |-- partyIdentifier: struct (nullable = false)\n",
      " |    |-- operation: string (nullable = false)\n",
      " |    |-- newValue: string (nullable = true)\n",
      " |    |-- oldValue: void (nullable = true)\n",
      " |-- partyRelationshipType: struct (nullable = false)\n",
      " |    |-- operation: string (nullable = false)\n",
      " |    |-- newValue: string (nullable = true)\n",
      " |    |-- oldValue: void (nullable = true)\n",
      " |-- partyRelationStartDateTime: struct (nullable = false)\n",
      " |    |-- operation: string (nullable = false)\n",
      " |    |-- newValue: timestamp (nullable = true)\n",
      " |    |-- oldValue: void (nullable = true)\n",
      "\n"
     ]
    }
   ],
   "source": [
    "def get_relations(df):\n",
    "    return df.select(\"account_id\", \"party_id\",\n",
    "                     get_insert_operation(col(\"party_id\"), \"partyIdentifier\"),\n",
    "                     get_insert_operation(col(\"relation_type\"), \"partyRelationshipType\"),\n",
    "                     get_insert_operation(col(\"relation_start_date\"), \"partyRelationStartDateTime\")\n",
    "                     )\n",
    "# Aplica transformações para obter as relações entre essas partes\n",
    "relations_df = get_relations(parties_df)\n",
    "relations_df.show(5)\n",
    "relations_df.printSchema()"
   ]
  },
  {
   "cell_type": "code",
   "execution_count": 8,
   "id": "b5a2d76d-083e-4f3d-82a2-0305866acbbd",
   "metadata": {},
   "outputs": [
    {
     "name": "stdout",
     "output_type": "stream",
     "text": [
      "24/10/05 13:41:59 INFO sbdl: Reading SBDL Address DF\n",
      "+----------+----------+------------------+--------------------+--------------+-----------+------------------+------------------+\n",
      "| load_date|  party_id|    address_line_1|      address_line_2|          city|postal_code|country_of_address|address_start_date|\n",
      "+----------+----------+------------------+--------------------+--------------+-----------+------------------+------------------+\n",
      "|2022-08-02|9823462810| 45229 Drake Route|   13306 Corey Point|     Shanefort|      77163|            Canada|        2019-02-26|\n",
      "|2022-08-02|9823462811|361 Robinson Green|3511 Rebecca Mission|   North Tyler|      34118|            Canada|        2018-01-28|\n",
      "|2022-08-02|9823462812|  039 Daniel Mount|8219 Hernandez Lo...| Boltonborough|      71648|            Mexico|        2018-12-07|\n",
      "|2022-08-02|9823462813|05550 Nancy Rapids| 9471 Zachary Canyon|East Davidport|      02504|     United States|        2019-04-02|\n",
      "|2022-08-02|9823462814| 5227 Wagner Pines|189 Julie Throughway|   West Amanda|      78962|            Canada|        2018-07-11|\n",
      "+----------+----------+------------------+--------------------+--------------+-----------+------------------+------------------+\n",
      "only showing top 5 rows\n",
      "\n",
      "root\n",
      " |-- load_date: date (nullable = true)\n",
      " |-- party_id: string (nullable = true)\n",
      " |-- address_line_1: string (nullable = true)\n",
      " |-- address_line_2: string (nullable = true)\n",
      " |-- city: string (nullable = true)\n",
      " |-- postal_code: string (nullable = true)\n",
      " |-- country_of_address: string (nullable = true)\n",
      " |-- address_start_date: date (nullable = true)\n",
      "\n"
     ]
    }
   ],
   "source": [
    "# Carrega os dados de endereços (DataFrame de endereços)\n",
    "logger.info(\"Reading SBDL Address DF\")\n",
    "address_df = DataLoader.read_address(spark, job_run_env, enable_hive, hive_db)\n",
    "address_df.show(5)\n",
    "address_df.printSchema()"
   ]
  },
  {
   "cell_type": "code",
   "execution_count": 11,
   "id": "8756ad53-0266-43e7-ad9d-577a3bcbcc59",
   "metadata": {},
   "outputs": [
    {
     "name": "stdout",
     "output_type": "stream",
     "text": [
      "+----------+--------------------+\n",
      "|  party_id|        partyAddress|\n",
      "+----------+--------------------+\n",
      "|9823462810|{INSERT, {45229 D...|\n",
      "|9823462811|{INSERT, {361 Rob...|\n",
      "|9823462812|{INSERT, {039 Dan...|\n",
      "|9823462813|{INSERT, {05550 N...|\n",
      "|9823462814|{INSERT, {5227 Wa...|\n",
      "+----------+--------------------+\n",
      "only showing top 5 rows\n",
      "\n",
      "root\n",
      " |-- party_id: string (nullable = true)\n",
      " |-- partyAddress: struct (nullable = false)\n",
      " |    |-- operation: string (nullable = false)\n",
      " |    |-- newValue: struct (nullable = false)\n",
      " |    |    |-- addressLine1: string (nullable = true)\n",
      " |    |    |-- addressLine2: string (nullable = true)\n",
      " |    |    |-- addressCity: string (nullable = true)\n",
      " |    |    |-- addressPostalCode: string (nullable = true)\n",
      " |    |    |-- addressCountry: string (nullable = true)\n",
      " |    |    |-- addressStartDate: date (nullable = true)\n",
      " |    |-- oldValue: void (nullable = true)\n",
      "\n"
     ]
    }
   ],
   "source": [
    "def get_address(df):\n",
    "    address = struct(col(\"address_line_1\").alias(\"addressLine1\"),\n",
    "                     col(\"address_line_2\").alias(\"addressLine2\"),\n",
    "                     col(\"city\").alias(\"addressCity\"),\n",
    "                     col(\"postal_code\").alias(\"addressPostalCode\"),\n",
    "                     col(\"country_of_address\").alias(\"addressCountry\"),\n",
    "                     col(\"address_start_date\").alias(\"addressStartDate\")\n",
    "                     )\n",
    "\n",
    "    return df.select(\"party_id\", get_insert_operation(address, \"partyAddress\"))\n",
    "\n",
    "# Aplica transformações para obter o DataFrame de endereços relacionados\n",
    "relation_address_df = get_address(address_df)\n",
    "relation_address_df.show(5)\n",
    "relation_address_df.printSchema()"
   ]
  },
  {
   "cell_type": "code",
   "execution_count": 13,
   "id": "62d6d08c-b44e-4e7c-b2e2-47bf3564cbad",
   "metadata": {},
   "outputs": [
    {
     "name": "stdout",
     "output_type": "stream",
     "text": [
      "24/10/05 13:45:25 INFO sbdl: Join Party Relations and Address\n"
     ]
    },
    {
     "name": "stderr",
     "output_type": "stream",
     "text": [
      "[Stage 21:===============================================>       (86 + 2) / 100]\r"
     ]
    },
    {
     "name": "stdout",
     "output_type": "stream",
     "text": [
      "+----------+--------------------+\n",
      "|account_id|      partyRelations|\n",
      "+----------+--------------------+\n",
      "|6982391067|[{{INSERT, 982346...|\n",
      "|6982391064|[{{INSERT, 982346...|\n",
      "|6982391066|[{{INSERT, 982346...|\n",
      "|6982391061|[{{INSERT, 982346...|\n",
      "|6982391060|[{{INSERT, 982346...|\n",
      "+----------+--------------------+\n",
      "only showing top 5 rows\n",
      "\n",
      "root\n",
      " |-- account_id: string (nullable = true)\n",
      " |-- partyRelations: array (nullable = false)\n",
      " |    |-- element: struct (containsNull = false)\n",
      " |    |    |-- partyIdentifier: struct (nullable = false)\n",
      " |    |    |    |-- operation: string (nullable = false)\n",
      " |    |    |    |-- newValue: string (nullable = true)\n",
      " |    |    |    |-- oldValue: void (nullable = true)\n",
      " |    |    |-- partyRelationshipType: struct (nullable = false)\n",
      " |    |    |    |-- operation: string (nullable = false)\n",
      " |    |    |    |-- newValue: string (nullable = true)\n",
      " |    |    |    |-- oldValue: void (nullable = true)\n",
      " |    |    |-- partyRelationStartDateTime: struct (nullable = false)\n",
      " |    |    |    |-- operation: string (nullable = false)\n",
      " |    |    |    |-- newValue: timestamp (nullable = true)\n",
      " |    |    |    |-- oldValue: void (nullable = true)\n",
      " |    |    |-- partyAddress: struct (nullable = true)\n",
      " |    |    |    |-- operation: string (nullable = false)\n",
      " |    |    |    |-- newValue: struct (nullable = false)\n",
      " |    |    |    |    |-- addressLine1: string (nullable = true)\n",
      " |    |    |    |    |-- addressLine2: string (nullable = true)\n",
      " |    |    |    |    |-- addressCity: string (nullable = true)\n",
      " |    |    |    |    |-- addressPostalCode: string (nullable = true)\n",
      " |    |    |    |    |-- addressCountry: string (nullable = true)\n",
      " |    |    |    |    |-- addressStartDate: date (nullable = true)\n",
      " |    |    |    |-- oldValue: void (nullable = true)\n",
      "\n"
     ]
    },
    {
     "name": "stderr",
     "output_type": "stream",
     "text": [
      "                                                                                \r"
     ]
    }
   ],
   "source": [
    "def join_party_address(p_df, a_df):\n",
    "    return p_df.join(a_df, \"party_id\", \"left_outer\") \\\n",
    "        .groupBy(\"account_id\") \\\n",
    "        .agg(collect_list(struct(\"partyIdentifier\",\n",
    "                                 \"partyRelationshipType\",\n",
    "                                 \"partyRelationStartDateTime\",\n",
    "                                 \"partyAddress\"\n",
    "                                 ).alias(\"partyDetails\")\n",
    "                          ).alias(\"partyRelations\"))\n",
    "\n",
    "# Junta os dados de relações de partes com os endereços para criar um DataFrame único\n",
    "logger.info(\"Join Party Relations and Address\")\n",
    "party_address_df = join_party_address(relations_df, relation_address_df)\n",
    "party_address_df.show(5)\n",
    "party_address_df.printSchema()"
   ]
  },
  {
   "cell_type": "code",
   "execution_count": 14,
   "id": "bcd1b624-7c1e-4723-8204-aedccfba6b49",
   "metadata": {},
   "outputs": [
    {
     "name": "stdout",
     "output_type": "stream",
     "text": [
      "24/10/05 13:46:13 INFO sbdl: Join Account and Parties\n"
     ]
    },
    {
     "name": "stderr",
     "output_type": "stream",
     "text": [
      "                                                                                \r"
     ]
    },
    {
     "name": "stdout",
     "output_type": "stream",
     "text": [
      "+----------+--------------------+----------------------+--------------------+--------------------+--------------------+--------------------+--------------------+--------------------+\n",
      "|account_id|  contractIdentifier|sourceSystemIdentifier|contactStartDateTime|       contractTitle|       taxIdentifier|  contractBranchCode|     contractCountry|      partyRelations|\n",
      "+----------+--------------------+----------------------+--------------------+--------------------+--------------------+--------------------+--------------------+--------------------+\n",
      "|6982391067|{INSERT, 69823910...|   {INSERT, BDL, null}|{INSERT, 2018-08-...|{INSERT, [{lgl_tt...|{INSERT, {SSP, UJ...|{INSERT, WZTEGBTG...|{INSERT, Canada, ...|[{{INSERT, 982346...|\n",
      "|6982391064|{INSERT, 69823910...|   {INSERT, ADS, null}|{INSERT, 2018-03-...|{INSERT, [{lgl_tt...|{INSERT, {CPR, WJ...|{INSERT, OCCKGB65...|{INSERT, Canada, ...|[{{INSERT, 982346...|\n",
      "|6982391066|{INSERT, 69823910...|   {INSERT, BDL, null}|{INSERT, 2017-08-...|{INSERT, [{lgl_tt...|{INSERT, {SSP, WF...|{INSERT, CVYEGBJC...|{INSERT, United S...|[{{INSERT, 982346...|\n",
      "|6982391061|{INSERT, 69823910...|   {INSERT, ADS, null}|{INSERT, 2018-07-...|{INSERT, [{lgl_tt...|{INSERT, {SSP, CA...|{INSERT, SHJFGBML...|{INSERT, United S...|[{{INSERT, 982346...|\n",
      "|6982391060|{INSERT, 69823910...|   {INSERT, COH, null}|{INSERT, 2018-03-...|{INSERT, [{lgl_tt...|{INSERT, {EIN, ZL...|{INSERT, ACXMGBA5...|{INSERT, Mexico, ...|[{{INSERT, 982346...|\n",
      "+----------+--------------------+----------------------+--------------------+--------------------+--------------------+--------------------+--------------------+--------------------+\n",
      "only showing top 5 rows\n",
      "\n",
      "root\n",
      " |-- account_id: string (nullable = true)\n",
      " |-- contractIdentifier: struct (nullable = false)\n",
      " |    |-- operation: string (nullable = false)\n",
      " |    |-- newValue: string (nullable = true)\n",
      " |    |-- oldValue: void (nullable = true)\n",
      " |-- sourceSystemIdentifier: struct (nullable = false)\n",
      " |    |-- operation: string (nullable = false)\n",
      " |    |-- newValue: string (nullable = true)\n",
      " |    |-- oldValue: void (nullable = true)\n",
      " |-- contactStartDateTime: struct (nullable = false)\n",
      " |    |-- operation: string (nullable = false)\n",
      " |    |-- newValue: timestamp (nullable = true)\n",
      " |    |-- oldValue: void (nullable = true)\n",
      " |-- contractTitle: struct (nullable = false)\n",
      " |    |-- operation: string (nullable = false)\n",
      " |    |-- newValue: array (nullable = false)\n",
      " |    |    |-- element: struct (containsNull = true)\n",
      " |    |    |    |-- contractTitleLineType: string (nullable = false)\n",
      " |    |    |    |-- contractTitleLine: string (nullable = true)\n",
      " |    |-- oldValue: void (nullable = true)\n",
      " |-- taxIdentifier: struct (nullable = false)\n",
      " |    |-- operation: string (nullable = false)\n",
      " |    |-- newValue: struct (nullable = false)\n",
      " |    |    |-- taxIdType: string (nullable = true)\n",
      " |    |    |-- taxId: string (nullable = true)\n",
      " |    |-- oldValue: void (nullable = true)\n",
      " |-- contractBranchCode: struct (nullable = false)\n",
      " |    |-- operation: string (nullable = false)\n",
      " |    |-- newValue: string (nullable = true)\n",
      " |    |-- oldValue: void (nullable = true)\n",
      " |-- contractCountry: struct (nullable = false)\n",
      " |    |-- operation: string (nullable = false)\n",
      " |    |-- newValue: string (nullable = true)\n",
      " |    |-- oldValue: void (nullable = true)\n",
      " |-- partyRelations: array (nullable = true)\n",
      " |    |-- element: struct (containsNull = false)\n",
      " |    |    |-- partyIdentifier: struct (nullable = false)\n",
      " |    |    |    |-- operation: string (nullable = false)\n",
      " |    |    |    |-- newValue: string (nullable = true)\n",
      " |    |    |    |-- oldValue: void (nullable = true)\n",
      " |    |    |-- partyRelationshipType: struct (nullable = false)\n",
      " |    |    |    |-- operation: string (nullable = false)\n",
      " |    |    |    |-- newValue: string (nullable = true)\n",
      " |    |    |    |-- oldValue: void (nullable = true)\n",
      " |    |    |-- partyRelationStartDateTime: struct (nullable = false)\n",
      " |    |    |    |-- operation: string (nullable = false)\n",
      " |    |    |    |-- newValue: timestamp (nullable = true)\n",
      " |    |    |    |-- oldValue: void (nullable = true)\n",
      " |    |    |-- partyAddress: struct (nullable = true)\n",
      " |    |    |    |-- operation: string (nullable = false)\n",
      " |    |    |    |-- newValue: struct (nullable = false)\n",
      " |    |    |    |    |-- addressLine1: string (nullable = true)\n",
      " |    |    |    |    |-- addressLine2: string (nullable = true)\n",
      " |    |    |    |    |-- addressCity: string (nullable = true)\n",
      " |    |    |    |    |-- addressPostalCode: string (nullable = true)\n",
      " |    |    |    |    |-- addressCountry: string (nullable = true)\n",
      " |    |    |    |    |-- addressStartDate: date (nullable = true)\n",
      " |    |    |    |-- oldValue: void (nullable = true)\n",
      "\n"
     ]
    }
   ],
   "source": [
    "def join_contract_party(c_df, p_df):\n",
    "    return c_df.join(p_df, \"account_id\", \"left_outer\")\n",
    "\n",
    "# Junta os dados de contratos com os dados de partes e endereços\n",
    "logger.info(\"Join Account and Parties\")\n",
    "data_df = join_contract_party(contract_df, party_address_df)\n",
    "data_df.show(5)\n",
    "data_df.printSchema()"
   ]
  },
  {
   "cell_type": "code",
   "execution_count": 16,
   "id": "24d09ef2-1ebb-42d1-899e-f8f2a2125f7c",
   "metadata": {},
   "outputs": [
    {
     "name": "stdout",
     "output_type": "stream",
     "text": [
      "24/10/05 13:46:58 INFO sbdl: Apply Header and create Event\n"
     ]
    },
    {
     "name": "stderr",
     "output_type": "stream",
     "text": [
      "[Stage 67:=====================================================> (98 + 2) / 100]\r"
     ]
    },
    {
     "name": "stdout",
     "output_type": "stream",
     "text": [
      "+--------------------+--------------------+--------------------+\n",
      "|         eventHeader|                keys|             payload|\n",
      "+--------------------+--------------------+--------------------+\n",
      "|{3e82cdba-2b2e-4d...|[{contractIdentif...|{{INSERT, 6982391...|\n",
      "|{cb834f58-94d6-4a...|[{contractIdentif...|{{INSERT, 6982391...|\n",
      "|{a52fcdb6-34d2-42...|[{contractIdentif...|{{INSERT, 6982391...|\n",
      "|{7e136f59-a40e-44...|[{contractIdentif...|{{INSERT, 6982391...|\n",
      "|{93e53d9a-07a5-4d...|[{contractIdentif...|{{INSERT, 6982391...|\n",
      "+--------------------+--------------------+--------------------+\n",
      "only showing top 5 rows\n",
      "\n",
      "root\n",
      " |-- eventHeader: struct (nullable = false)\n",
      " |    |-- eventIdentifier: string (nullable = false)\n",
      " |    |-- eventType: string (nullable = true)\n",
      " |    |-- majorSchemaVersion: long (nullable = true)\n",
      " |    |-- minorSchemaVersion: long (nullable = true)\n",
      " |    |-- eventDateTime: string (nullable = false)\n",
      " |-- keys: array (nullable = false)\n",
      " |    |-- element: struct (containsNull = false)\n",
      " |    |    |-- keyField: string (nullable = false)\n",
      " |    |    |-- keyValue: string (nullable = true)\n",
      " |-- payload: struct (nullable = false)\n",
      " |    |-- contractIdentifier: struct (nullable = false)\n",
      " |    |    |-- operation: string (nullable = false)\n",
      " |    |    |-- newValue: string (nullable = true)\n",
      " |    |    |-- oldValue: void (nullable = true)\n",
      " |    |-- sourceSystemIdentifier: struct (nullable = false)\n",
      " |    |    |-- operation: string (nullable = false)\n",
      " |    |    |-- newValue: string (nullable = true)\n",
      " |    |    |-- oldValue: void (nullable = true)\n",
      " |    |-- contactStartDateTime: struct (nullable = false)\n",
      " |    |    |-- operation: string (nullable = false)\n",
      " |    |    |-- newValue: timestamp (nullable = true)\n",
      " |    |    |-- oldValue: void (nullable = true)\n",
      " |    |-- contractTitle: struct (nullable = false)\n",
      " |    |    |-- operation: string (nullable = false)\n",
      " |    |    |-- newValue: array (nullable = false)\n",
      " |    |    |    |-- element: struct (containsNull = true)\n",
      " |    |    |    |    |-- contractTitleLineType: string (nullable = false)\n",
      " |    |    |    |    |-- contractTitleLine: string (nullable = true)\n",
      " |    |    |-- oldValue: void (nullable = true)\n",
      " |    |-- taxIdentifier: struct (nullable = false)\n",
      " |    |    |-- operation: string (nullable = false)\n",
      " |    |    |-- newValue: struct (nullable = false)\n",
      " |    |    |    |-- taxIdType: string (nullable = true)\n",
      " |    |    |    |-- taxId: string (nullable = true)\n",
      " |    |    |-- oldValue: void (nullable = true)\n",
      " |    |-- contractBranchCode: struct (nullable = false)\n",
      " |    |    |-- operation: string (nullable = false)\n",
      " |    |    |-- newValue: string (nullable = true)\n",
      " |    |    |-- oldValue: void (nullable = true)\n",
      " |    |-- contractCountry: struct (nullable = false)\n",
      " |    |    |-- operation: string (nullable = false)\n",
      " |    |    |-- newValue: string (nullable = true)\n",
      " |    |    |-- oldValue: void (nullable = true)\n",
      " |    |-- partyRelations: array (nullable = true)\n",
      " |    |    |-- element: struct (containsNull = false)\n",
      " |    |    |    |-- partyIdentifier: struct (nullable = false)\n",
      " |    |    |    |    |-- operation: string (nullable = false)\n",
      " |    |    |    |    |-- newValue: string (nullable = true)\n",
      " |    |    |    |    |-- oldValue: void (nullable = true)\n",
      " |    |    |    |-- partyRelationshipType: struct (nullable = false)\n",
      " |    |    |    |    |-- operation: string (nullable = false)\n",
      " |    |    |    |    |-- newValue: string (nullable = true)\n",
      " |    |    |    |    |-- oldValue: void (nullable = true)\n",
      " |    |    |    |-- partyRelationStartDateTime: struct (nullable = false)\n",
      " |    |    |    |    |-- operation: string (nullable = false)\n",
      " |    |    |    |    |-- newValue: timestamp (nullable = true)\n",
      " |    |    |    |    |-- oldValue: void (nullable = true)\n",
      " |    |    |    |-- partyAddress: struct (nullable = true)\n",
      " |    |    |    |    |-- operation: string (nullable = false)\n",
      " |    |    |    |    |-- newValue: struct (nullable = false)\n",
      " |    |    |    |    |    |-- addressLine1: string (nullable = true)\n",
      " |    |    |    |    |    |-- addressLine2: string (nullable = true)\n",
      " |    |    |    |    |    |-- addressCity: string (nullable = true)\n",
      " |    |    |    |    |    |-- addressPostalCode: string (nullable = true)\n",
      " |    |    |    |    |    |-- addressCountry: string (nullable = true)\n",
      " |    |    |    |    |    |-- addressStartDate: date (nullable = true)\n",
      " |    |    |    |    |-- oldValue: void (nullable = true)\n",
      "\n"
     ]
    },
    {
     "name": "stderr",
     "output_type": "stream",
     "text": [
      "                                                                                \r"
     ]
    }
   ],
   "source": [
    "def apply_header(spark, df):\n",
    "    header_info = [(\"SBDL-Contract\", 1, 0), ]\n",
    "    header_df = spark.createDataFrame(header_info) \\\n",
    "        .toDF(\"eventType\", \"majorSchemaVersion\", \"minorSchemaVersion\")\n",
    "\n",
    "    event_df = header_df.hint(\"broadcast\").crossJoin(df) \\\n",
    "        .select(struct(expr(\"uuid()\").alias(\"eventIdentifier\"),\n",
    "                       col(\"eventType\"), col(\"majorSchemaVersion\"), col(\"minorSchemaVersion\"),\n",
    "                       lit(date_format(current_timestamp(), \"yyyy-MM-dd'T'HH:mm:ssZ\")).alias(\"eventDateTime\")\n",
    "                       ).alias(\"eventHeader\"),\n",
    "                array(struct(lit(\"contractIdentifier\").alias(\"keyField\"),\n",
    "                             col(\"account_id\").alias(\"keyValue\")\n",
    "                             )).alias(\"keys\"),\n",
    "                struct(col(\"contractIdentifier\"),\n",
    "                       col(\"sourceSystemIdentifier\"),\n",
    "                       col(\"contactStartDateTime\"),\n",
    "                       col(\"contractTitle\"),\n",
    "                       col(\"taxIdentifier\"),\n",
    "                       col(\"contractBranchCode\"),\n",
    "                       col(\"contractCountry\"),\n",
    "                       col(\"partyRelations\")\n",
    "                       ).alias(\"payload\")\n",
    "                )\n",
    "    return event_df\n",
    "    \n",
    "# Aplica um cabeçalho e cria um evento (provavelmente adiciona metadados ou estrutura padrão)\n",
    "logger.info(\"Apply Header and create Event\")\n",
    "final_df = apply_header(spark, data_df)\n",
    "final_df.show(5)\n",
    "final_df.printSchema()"
   ]
  },
  {
   "cell_type": "code",
   "execution_count": null,
   "id": "c245f40e-e877-4076-96ad-d5ac41d2fb0a",
   "metadata": {},
   "outputs": [],
   "source": []
  }
 ],
 "metadata": {
  "kernelspec": {
   "display_name": "Python 3 (ipykernel)",
   "language": "python",
   "name": "python3"
  },
  "language_info": {
   "codemirror_mode": {
    "name": "ipython",
    "version": 3
   },
   "file_extension": ".py",
   "mimetype": "text/x-python",
   "name": "python",
   "nbconvert_exporter": "python",
   "pygments_lexer": "ipython3",
   "version": "3.12.1"
  }
 },
 "nbformat": 4,
 "nbformat_minor": 5
}
